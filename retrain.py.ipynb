{
 "cells": [
  {
   "cell_type": "code",
   "execution_count": 1,
   "id": "8ec575b0-32d3-4fa1-94e1-36e5d7152c00",
   "metadata": {},
   "outputs": [
    {
     "name": "stdout",
     "output_type": "stream",
     "text": [
      "Model retrained and saved as rf_model.pkl\n"
     ]
    }
   ],
   "source": [
    "import pandas as pd\n",
    "from sklearn.ensemble import RandomForestRegressor\n",
    "from sklearn.multioutput import MultiOutputRegressor\n",
    "from sklearn.preprocessing import LabelEncoder\n",
    "import pickle\n",
    "\n",
    "# ===== Load your dataset =====\n",
    "# Change to the actual CSV path\n",
    "df = pd.read_csv(\"products_impact.csv\")\n",
    "\n",
    "# ===== Keep only the right features and targets =====\n",
    "features = [\n",
    "    'category', 'material', 'packaging_type', 'transport_mode',\n",
    "    'distance_km', 'weight_kg', 'energy_kwh', 'water_process_l'\n",
    "]\n",
    "targets = ['carbon_kg', 'water_liters']\n",
    "\n",
    "X = df[features].copy()\n",
    "y = df[targets].copy()\n",
    "\n",
    "# ===== Encode categorical columns =====\n",
    "label_encoders = {}\n",
    "for col in ['category', 'material', 'packaging_type', 'transport_mode']:\n",
    "    le = LabelEncoder()\n",
    "    X[col] = le.fit_transform(X[col])\n",
    "    label_encoders[col] = le\n",
    "\n",
    "# ===== Train the multi-output model =====\n",
    "base_model = RandomForestRegressor(n_estimators=200, random_state=42)\n",
    "model = MultiOutputRegressor(base_model)\n",
    "model.fit(X, y)\n",
    "\n",
    "# ===== Save the model and encoders =====\n",
    "with open(\"rf_model.pkl\", \"wb\") as f:\n",
    "    pickle.dump(model, f)\n",
    "\n",
    "with open(\"label_encoders.pkl\", \"wb\") as f:\n",
    "    pickle.dump(label_encoders, f)\n",
    "\n",
    "print(\"Model retrained and saved as rf_model.pkl\")\n"
   ]
  },
  {
   "cell_type": "code",
   "execution_count": null,
   "id": "2d6efd41-f15b-447d-aebb-eb835613890c",
   "metadata": {},
   "outputs": [],
   "source": []
  }
 ],
 "metadata": {
  "kernelspec": {
   "display_name": "Python 3 (ipykernel)",
   "language": "python",
   "name": "python3"
  },
  "language_info": {
   "codemirror_mode": {
    "name": "ipython",
    "version": 3
   },
   "file_extension": ".py",
   "mimetype": "text/x-python",
   "name": "python",
   "nbconvert_exporter": "python",
   "pygments_lexer": "ipython3",
   "version": "3.12.7"
  }
 },
 "nbformat": 4,
 "nbformat_minor": 5
}
